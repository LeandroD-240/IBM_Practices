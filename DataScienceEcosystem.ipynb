{
  "cells": [
    {
      "cell_type": "markdown",
      "metadata": {
        "id": "view-in-github",
        "colab_type": "text"
      },
      "source": [
        "<a href=\"https://colab.research.google.com/github/LeandroD-240/IBM_Practices/blob/main/DataScienceEcosystem.ipynb\" target=\"_parent\"><img src=\"https://colab.research.google.com/assets/colab-badge.svg\" alt=\"Open In Colab\"/></a>"
      ]
    },
    {
      "cell_type": "markdown",
      "source": [
        "# Data Science Tools and Ecosystem"
      ],
      "metadata": {
        "id": "nBpdy6qD75iS"
      },
      "id": "nBpdy6qD75iS"
    },
    {
      "cell_type": "markdown",
      "source": [
        "## Autor\n",
        "Leandro Díaz"
      ],
      "metadata": {
        "id": "YaY858YrBTk_"
      },
      "id": "YaY858YrBTk_"
    },
    {
      "cell_type": "markdown",
      "source": [
        "En este cuaderno, se resumen las herramientas y ecosistemas de ciencia de datos."
      ],
      "metadata": {
        "id": "6JH809AY8grI"
      },
      "id": "6JH809AY8grI"
    },
    {
      "cell_type": "markdown",
      "source": [
        "**Objetivos:**\n",
        "- Listar lenguajes populares para Ciencia de Datos\n",
        "- Listar bibliotecas populares para Ciencia de Datos\n",
        "- Crear tablas de las herramientas de código abierto para Ciencia de Datos\n",
        "- Crear encabezados y niveles de encabezados en Python\n",
        "- Hacer cálculos aritméticos en Python"
      ],
      "metadata": {
        "id": "q-FEEIhjAmQn"
      },
      "id": "q-FEEIhjAmQn"
    },
    {
      "cell_type": "markdown",
      "source": [
        "Algunos de los lenguajes populares que utilizan los científicos de datos son:\n",
        "1. Python\n",
        "2. R\n",
        "3. Scala\n",
        "4. Java\n",
        "\n"
      ],
      "metadata": {
        "id": "7WvLp3AQ8xSp"
      },
      "id": "7WvLp3AQ8xSp"
    },
    {
      "cell_type": "markdown",
      "source": [
        "Algunas de las bibliotecas comúnmente utilizadas por los científicos de datos incluyen:\n",
        "1. NumPy\n",
        "2. Pandas\n",
        "3. Matplotlib\n",
        "4. Scikit-Learn"
      ],
      "metadata": {
        "id": "zGX3KwYm9Ln0"
      },
      "id": "zGX3KwYm9Ln0"
    },
    {
      "cell_type": "markdown",
      "source": [
        "|Herramientas de Ciencia de Datos|\n",
        "|--------------------------------|\n",
        "|Google Colab|\n",
        "|GitHub|\n",
        "|Proyecto Jupyter|\n",
        "|RStudio|"
      ],
      "metadata": {
        "id": "1LToJLpT9oJk"
      },
      "id": "1LToJLpT9oJk"
    },
    {
      "cell_type": "markdown",
      "source": [
        "### A continuación, se presentan algunos ejemplos de evaluación de expresiones aritméticas en Python"
      ],
      "metadata": {
        "id": "pj1bUBSb_iky"
      },
      "id": "pj1bUBSb_iky"
    },
    {
      "cell_type": "code",
      "source": [
        "# Esta es una expresión aritmética simple para multiplicar y luego sumar enteros\n",
        "(3*4)+5"
      ],
      "metadata": {
        "colab": {
          "base_uri": "https://localhost:8080/"
        },
        "id": "YHiIbmUe_zmB",
        "outputId": "5febb5b1-f6b0-4022-e6d9-248b3d57cb02"
      },
      "id": "YHiIbmUe_zmB",
      "execution_count": 1,
      "outputs": [
        {
          "output_type": "execute_result",
          "data": {
            "text/plain": [
              "17"
            ]
          },
          "metadata": {},
          "execution_count": 1
        }
      ]
    },
    {
      "cell_type": "code",
      "source": [
        "# Esto convertirá 200 minutos a horas dividiendo por 60\n",
        "200/60"
      ],
      "metadata": {
        "colab": {
          "base_uri": "https://localhost:8080/"
        },
        "id": "76JqVv6pAO6f",
        "outputId": "7933d320-331e-430d-a5ee-7f80b3c2011b"
      },
      "id": "76JqVv6pAO6f",
      "execution_count": 2,
      "outputs": [
        {
          "output_type": "execute_result",
          "data": {
            "text/plain": [
              "3.3333333333333335"
            ]
          },
          "metadata": {},
          "execution_count": 2
        }
      ]
    }
  ],
  "metadata": {
    "kernelspec": {
      "display_name": "Python 3 (ipykernel)",
      "language": "python",
      "name": "python3"
    },
    "language_info": {
      "codemirror_mode": {
        "name": "ipython",
        "version": 3
      },
      "file_extension": ".py",
      "mimetype": "text/x-python",
      "name": "python",
      "nbconvert_exporter": "python",
      "pygments_lexer": "ipython3",
      "version": "3.10.6"
    },
    "colab": {
      "provenance": [],
      "include_colab_link": true
    }
  },
  "nbformat": 4,
  "nbformat_minor": 5
}